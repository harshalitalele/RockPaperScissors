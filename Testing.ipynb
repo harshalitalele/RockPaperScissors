{
 "cells": [
  {
   "cell_type": "code",
   "execution_count": 1,
   "metadata": {},
   "outputs": [],
   "source": [
    "import tensorflow as tf\n",
    "from tensorflow import keras\n",
    "import h5py\n",
    "import cv2\n",
    "from PIL import Image\n",
    "import numpy"
   ]
  },
  {
   "cell_type": "code",
   "execution_count": 2,
   "metadata": {
    "scrolled": false
   },
   "outputs": [],
   "source": [
    "model = keras.models.load_model('Models\\model05.h5')\n",
    "imgCnt = 0"
   ]
  },
  {
   "cell_type": "code",
   "execution_count": 5,
   "metadata": {},
   "outputs": [
    {
     "name": "stdout",
     "output_type": "stream",
     "text": [
      "[[[[0.]\n",
      "   [0.]\n",
      "   [0.]\n",
      "   ...\n",
      "   [0.]\n",
      "   [0.]\n",
      "   [0.]]\n",
      "\n",
      "  [[0.]\n",
      "   [0.]\n",
      "   [0.]\n",
      "   ...\n",
      "   [0.]\n",
      "   [0.]\n",
      "   [0.]]\n",
      "\n",
      "  [[0.]\n",
      "   [0.]\n",
      "   [0.]\n",
      "   ...\n",
      "   [0.]\n",
      "   [0.]\n",
      "   [0.]]\n",
      "\n",
      "  ...\n",
      "\n",
      "  [[0.]\n",
      "   [0.]\n",
      "   [0.]\n",
      "   ...\n",
      "   [0.]\n",
      "   [0.]\n",
      "   [0.]]\n",
      "\n",
      "  [[0.]\n",
      "   [0.]\n",
      "   [0.]\n",
      "   ...\n",
      "   [0.]\n",
      "   [0.]\n",
      "   [0.]]\n",
      "\n",
      "  [[0.]\n",
      "   [0.]\n",
      "   [0.]\n",
      "   ...\n",
      "   [0.]\n",
      "   [0.]\n",
      "   [0.]]]]\n",
      "[[1.2892221e-02 9.0753799e+01 9.2332993e+00]]\n",
      "Paper\n"
     ]
    }
   ],
   "source": [
    "camera = cv2.VideoCapture(0)\n",
    "for j in range(1):\n",
    "    return_value, image = camera.read()\n",
    "    cv2.imwrite('handgesture.png', image)\n",
    "    img = Image.open('handgesture.png').convert('L')\n",
    "    img = img.resize((300, 200))\n",
    "    img.save('handgesturebw' + str(imgCnt) + '.png')\n",
    "    imgCnt += 1\n",
    "    img = Image.open('handgesturebw.png')\n",
    "    np_img = numpy.array(img)\n",
    "    np_img = np_img / 255.0\n",
    "    x = numpy.expand_dims(np_img, axis=0)\n",
    "    x = numpy.expand_dims(x, axis=3)\n",
    "    print(x)\n",
    "    pred = model.predict(x)\n",
    "    print(pred*100)\n",
    "    for i in range(3):\n",
    "        if pred[0][i]*100 > 50:\n",
    "            if i == 0:\n",
    "                print(\"Scissors\")\n",
    "            elif i == 1:\n",
    "                print(\"Paper\")\n",
    "            elif i == 2:\n",
    "                print(\"Rock\")\n",
    "            break\n",
    "del(camera)"
   ]
  },
  {
   "cell_type": "code",
   "execution_count": 4,
   "metadata": {},
   "outputs": [
    {
     "data": {
      "text/plain": [
       "1"
      ]
     },
     "execution_count": 4,
     "metadata": {},
     "output_type": "execute_result"
    }
   ],
   "source": [
    "imgCnt"
   ]
  },
  {
   "cell_type": "code",
   "execution_count": 6,
   "metadata": {},
   "outputs": [
    {
     "name": "stdout",
     "output_type": "stream",
     "text": [
      "b'\"Paper\"'\n"
     ]
    }
   ],
   "source": [
    "import requests\n",
    "import cv2\n",
    "\n",
    "content_type = 'image/jpeg'\n",
    "headers = {'content-type': content_type}\n",
    "img = cv2.imread('handgesture.png')\n",
    "img = cv2.resize(img, (300, 200)) \n",
    "img = cv2.cvtColor(img, cv2.COLOR_BGR2GRAY)\n",
    "_, img_encoded = cv2.imencode('.jpg', img)\n",
    "\n",
    "response = requests.post('http://192.168.1.55:5000/detectGesture', data=img_encoded.tostring(), headers=headers)\n",
    "\n",
    "print(response.content)"
   ]
  },
  {
   "cell_type": "code",
   "execution_count": null,
   "metadata": {},
   "outputs": [],
   "source": []
  }
 ],
 "metadata": {
  "kernelspec": {
   "display_name": "Python 3",
   "language": "python",
   "name": "python3"
  },
  "language_info": {
   "codemirror_mode": {
    "name": "ipython",
    "version": 3
   },
   "file_extension": ".py",
   "mimetype": "text/x-python",
   "name": "python",
   "nbconvert_exporter": "python",
   "pygments_lexer": "ipython3",
   "version": "3.7.0"
  }
 },
 "nbformat": 4,
 "nbformat_minor": 2
}
